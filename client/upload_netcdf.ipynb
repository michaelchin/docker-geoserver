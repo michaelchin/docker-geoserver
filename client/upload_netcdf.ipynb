{
 "cells": [
  {
   "cell_type": "code",
   "execution_count": null,
   "metadata": {},
   "outputs": [],
   "source": [
    "%load_ext dotenv\n",
    "%dotenv\n",
    "\n",
    "import os \n",
    "\n",
    "#user_name = os.environ.get('username')\n",
    "#password = os.environ.get('password')\n",
    "#print(user_name, password)\n",
    "\n",
    "from geo.Geoserver import Geoserver\n",
    "geo = Geoserver('https://geosrv.earthbyte.org/geoserver/', \n",
    "                username=os.environ.get('username'), password=os.environ.get('password'))\n",
    "\n"
   ]
  },
  {
   "cell_type": "code",
   "execution_count": null,
   "metadata": {},
   "outputs": [],
   "source": [
    "geo.create_workspace(workspace='paleo_topo')"
   ]
  },
  {
   "cell_type": "code",
   "execution_count": null,
   "metadata": {},
   "outputs": [],
   "source": [
    "\n",
    "# list stores\n",
    "! curl -v -u $username:$password \\\n",
    "    https://geosrv.earthbyte.org/geoserver/rest/workspaces/paleo_topo/coveragestores\n",
    "\n"
   ]
  },
  {
   "cell_type": "code",
   "execution_count": null,
   "metadata": {},
   "outputs": [],
   "source": [
    "# create coverage store\n",
    "! curl -v -u $username:$password  -XPOST \\\n",
    "    -H \"Content-type: application/json\" \\\n",
    "    -d '{\"coverageStore\":{\"name\":\"test_netcdf_2\",\"type\":\"NetCDF\",\"enabled\":true,\"_default\":false,\"workspace\":{\"name\":\"paleo_topo\"},\"url\":\"file:placeholder.nc\"}}' \\\n",
    "    https://geosrv.earthbyte.org/geoserver/rest/workspaces/paleo_topo/coveragestores\n",
    "\n"
   ]
  },
  {
   "cell_type": "code",
   "execution_count": null,
   "metadata": {},
   "outputs": [],
   "source": [
    "# update store coverage\n",
    "! curl -v -u $username:$password -XPUT \\\n",
    "    -H \"Content-Type: application/zip\" \\\n",
    "    -H \"Accept: application/json\" \\\n",
    "    --data-binary @test_rest_2.nc.zip \\\n",
    "    \"https://geosrv.earthbyte.org/geoserver/rest/workspaces/paleo_topo/coveragestores/test_netcdf_2/file.netcdf?coverageName=test_2\"\n",
    "        "
   ]
  },
  {
   "cell_type": "code",
   "execution_count": null,
   "metadata": {},
   "outputs": [],
   "source": []
  }
 ],
 "metadata": {
  "kernelspec": {
   "display_name": "Python 3",
   "language": "python",
   "name": "python3"
  },
  "language_info": {
   "codemirror_mode": {
    "name": "ipython",
    "version": 3
   },
   "file_extension": ".py",
   "mimetype": "text/x-python",
   "name": "python",
   "nbconvert_exporter": "python",
   "pygments_lexer": "ipython3",
   "version": "3.8.3"
  }
 },
 "nbformat": 4,
 "nbformat_minor": 4
}
