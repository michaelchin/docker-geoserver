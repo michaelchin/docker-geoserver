{
 "cells": [
  {
   "cell_type": "code",
   "execution_count": null,
   "metadata": {},
   "outputs": [],
   "source": [
    "%load_ext dotenv\n",
    "%dotenv\n",
    "\n",
    "import os \n",
    "\n",
    "#user_name = os.environ.get('username')\n",
    "#password = os.environ.get('password')\n",
    "#print(user_name, password)\n",
    "\n",
    "from geo.Geoserver import Geoserver\n",
    "geo = Geoserver('https://geosrv.earthbyte.org/geoserver/', \n",
    "                username=os.environ.get('username'), password=os.environ.get('password'))\n",
    "\n"
   ]
  },
  {
   "cell_type": "code",
   "execution_count": null,
   "metadata": {},
   "outputs": [],
   "source": [
    "geo.create_workspace(workspace='paleo_topo')"
   ]
  },
  {
   "cell_type": "code",
   "execution_count": null,
   "metadata": {},
   "outputs": [],
   "source": [
    "\n",
    "# list stores\n",
    "! curl -v -u $username:$password \\\n",
    "    https://geosrv.earthbyte.org/geoserver/rest/workspaces/paleo_topo/coveragestores\n",
    "\n"
   ]
  },
  {
   "cell_type": "code",
   "execution_count": null,
   "metadata": {},
   "outputs": [],
   "source": [
    "# create coverage store\n",
    "! curl -v -u $username:$password  -XPOST \\\n",
    "    -H \"Content-type: application/json\" \\\n",
    "    -d '{\"coverageStore\":{\"name\":\"test_netcdf_2\",\"type\":\"NetCDF\",\"enabled\":true,\"_default\":false,\"workspace\":{\"name\":\"paleo_topo\"},\"url\":\"file:placeholder.nc\"}}' \\\n",
    "    https://geosrv.earthbyte.org/geoserver/rest/workspaces/paleo_topo/coveragestores\n",
    "\n"
   ]
  },
  {
   "cell_type": "code",
   "execution_count": null,
   "metadata": {},
   "outputs": [],
   "source": [
    "# update store coverage\n",
    "! curl -v -u $username:$password -XPUT \\\n",
    "    -H \"Content-Type: application/zip\" \\\n",
    "    -H \"Accept: application/json\" \\\n",
    "    --data-binary @paleotopo_1.00d_40.00Ma.nc.zip \\\n",
    "    \"https://geosrv.earthbyte.org/geoserver/rest/workspaces/paleo_topo/coveragestores/test_netcdf_2/file.netcdf?coverageName=test_2\"\n",
    "        "
   ]
  },
  {
   "cell_type": "code",
   "execution_count": null,
   "metadata": {},
   "outputs": [],
   "source": [
    "import subprocess\n",
    "ret=subprocess.run([\"ls\", \"-l\", \"/dev/null\"], capture_output=True)\n",
    "print(ret.returncode)"
   ]
  },
  {
   "cell_type": "code",
   "execution_count": null,
   "metadata": {},
   "outputs": [],
   "source": [
    "! for i in $(seq 1 10); do echo $i; done"
   ]
  },
  {
   "cell_type": "markdown",
   "metadata": {},
   "source": [
    "#### build a shell script to do the uploading"
   ]
  },
  {
   "cell_type": "code",
   "execution_count": null,
   "metadata": {},
   "outputs": [],
   "source": [
    "#easier to create a .sh file than calling subprocess from python\n",
    "import json\n",
    "\n",
    "with open(\"upload_netcdf.sh\", 'w+') as f:\n",
    "    for i in range(1,3):\n",
    "        # create coverage store\n",
    "        cfg = {\n",
    "            \"coverageStore\":{\n",
    "                \"name\":f\"paleotopo_{i}_Ma\",\n",
    "                \"type\":\"NetCDF\",\n",
    "                \"enabled\":True,\n",
    "                \"_default\":False,\n",
    "                \"workspace\":{\"name\":\"paleo_topo\"},\n",
    "                \"url\":\"file:placeholder.nc\"\n",
    "            }\n",
    "        }\n",
    "        create_cmd_str = (\n",
    "            'curl -u $username:$password  -XPOST '\n",
    "            '-H \"Content-type: application/json\" '\n",
    "            '-d '\n",
    "            f\"'{json.dumps(cfg)}' \"\n",
    "            'https://geosrv.earthbyte.org/geoserver/rest/workspaces/paleo_topo/coveragestores'\n",
    "        )\n",
    "        #print(create_cmd_str)\n",
    "\n",
    "\n",
    "        # update store coverage\n",
    "        update_cmd_str = (\n",
    "            'curl -u $username:$password -XPUT '\n",
    "            '-H \"Content-Type: application/zip\" '\n",
    "            '-H \"Accept: application/json\" '\n",
    "            f'--data-binary @./zipped_for_geoserver/paleotopo_1.00d_{i}.00Ma.nc.zip '\n",
    "            f'\"https://geosrv.earthbyte.org/geoserver/rest/workspaces/paleo_topo/coveragestores/paleotopo_{i}_Ma/file.netcdf?coverageName=paleotopo_{i}_Ma\"'\n",
    "        )\n",
    "\n",
    "        f.write(create_cmd_str+'\\n')\n",
    "        f.write(update_cmd_str+'\\n')\n",
    "\n",
    "\n",
    "print('Done!')\n"
   ]
  },
  {
   "cell_type": "markdown",
   "metadata": {},
   "source": [
    "#### run the shell script"
   ]
  },
  {
   "cell_type": "code",
   "execution_count": null,
   "metadata": {},
   "outputs": [],
   "source": [
    "! chmod +x upload_netcdf.sh\n",
    "! ./upload_netcdf.sh"
   ]
  },
  {
   "cell_type": "code",
   "execution_count": null,
   "metadata": {},
   "outputs": [],
   "source": []
  }
 ],
 "metadata": {
  "kernelspec": {
   "display_name": "Python 3",
   "language": "python",
   "name": "python3"
  },
  "language_info": {
   "codemirror_mode": {
    "name": "ipython",
    "version": 3
   },
   "file_extension": ".py",
   "mimetype": "text/x-python",
   "name": "python",
   "nbconvert_exporter": "python",
   "pygments_lexer": "ipython3",
   "version": "3.8.3"
  }
 },
 "nbformat": 4,
 "nbformat_minor": 4
}
